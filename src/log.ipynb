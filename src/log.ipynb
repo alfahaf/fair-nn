{
 "cells": [
  {
   "cell_type": "code",
   "execution_count": null,
   "metadata": {},
   "outputs": [],
   "source": [
    "%matplotlib inline\n",
    "import pandas as pd\n",
    "from IPython.display import display\n",
    "import matplotlib\n",
    "import matplotlib.pyplot as plt\n",
    "import seaborn as sns\n",
    "import math\n",
    "import os\n",
    "\n",
    "from datasets import get_dataset, bruteforce\n",
    "from distance import jaccard, l2\n",
    "from lsh import LSHBuilder, LSH\n",
    "\n",
    "sns.set_style(\"whitegrid\")\n",
    "#plt.rcParams[\"figure.figsize\"] =(20,10)\n",
    "pd.options.display.max_rows = 2000\n",
    "plt.rcParams['mathtext.fontset'] = 'cm'\n",
    "#plt.rcParams['font.family'] = 'cmu serif'\n",
    "plt.rcParams['mathtext.rm'] = 'Bitstream Vera Sans'\n",
    "plt.rcParams['mathtext.it'] = 'Bitstream Vera Sans:italic'\n",
    "plt.rcParams['mathtext.bf'] = 'Bitstream Vera Sans:bold'\n",
    "\n",
    "#sns.set_context('paper', font_scale=5)\n",
    "\n",
    "df = pd.read_csv(\"exp.csv\")"
   ]
  },
  {
   "cell_type": "code",
   "execution_count": null,
   "metadata": {},
   "outputs": [],
   "source": [
    "for ds in set(df.dataset):\n",
    "    for k in set(df[df.dataset==ds].k):\n",
    "        plt.title(f\"{ds}, k={k}\")\n",
    "        ax = sns.lineplot(data=df[(df.k == k) & (df.dataset == ds)], x=\"L\", y=\"tvd\",hue=\"method\")\n",
    "        plt.show()"
   ]
  },
  {
   "cell_type": "code",
   "execution_count": null,
   "metadata": {},
   "outputs": [],
   "source": [
    "for ds in set(df.dataset):\n",
    "    for L in set(df[df.dataset==ds].L):\n",
    "        plt.title(f\"{ds}, L={L}\")\n",
    "        ax = sns.lineplot(data=df[(df.L == L) & (df.dataset == ds)], x=\"k\", y=\"tvd\",hue=\"method\")\n",
    "        plt.show()"
   ]
  },
  {
   "source": [
    "# Discussion of b_cr/b_r term on real-world datasets"
   ],
   "cell_type": "markdown",
   "metadata": {}
  },
  {
   "cell_type": "code",
   "execution_count": null,
   "metadata": {},
   "outputs": [],
   "source": [
    "def ratio_plot(ds_name, distance_fn, rs, cs):\n",
    "    data, queries, _, _ = get_dataset(ds_name)\n",
    "    groundtruth = bruteforce(data, queries, distance_fn)\n",
    "\n",
    "    ball_df = pd.DataFrame(data={'r' : [], 'c' : [], 'br' : [], 'bcr' :[], 'i' : [] })\n",
    "\n",
    "    for r in rs:\n",
    "        for c in cs:\n",
    "            for i in range(len(groundtruth)):\n",
    "                if distance_fn == l2:\n",
    "                    b_r = len([1 for p in groundtruth[i] if distance_fn(data[p], queries[i]) <= r])\n",
    "                    b_cr = len([1 for p in groundtruth[i] if distance_fn(data[p], queries[i]) <= r * c])\n",
    "                elif distance_fn == jaccard:\n",
    "                    b_r = len([1 for p in groundtruth[i] if distance_fn(data[p], queries[i]) >= r])\n",
    "                    b_cr = len([1 for p in groundtruth[i] if distance_fn(data[p], queries[i]) >= r * c])\n",
    "                ball_df = ball_df.append({'r': r, 'c' : c, 'br': b_r, 'bcr' : b_cr, 'i' : i}, ignore_index=True)\n",
    "                \n",
    "                \n",
    "    ball_grouped_df = ball_df.groupby(['r', 'c']).sum().reset_index()\n",
    "    ball_grouped_df['rel'] = ball_grouped_df[['br', 'bcr']].apply(lambda x:  x[1] / x[0], axis=1)\n",
    "    sns.catplot(data=ball_grouped_df[['r', 'c', 'rel']].round(2).rename(columns={'rel' : '$b_{cr} / b_r$'}),x='c', y='$b_{cr} / b_r$', kind='bar', col='r')"
   ]
  },
  {
   "cell_type": "code",
   "execution_count": null,
   "metadata": {},
   "outputs": [],
   "source": [
    "ratio_plot(\"lastfm\", jaccard, (0.15, 0.2, 0.25), (2/3, 1/2, 1/3, 1/4, 1/5) )"
   ]
  },
  {
   "cell_type": "code",
   "execution_count": null,
   "metadata": {},
   "outputs": [],
   "source": [
    "ratio_plot(\"movielens\", jaccard, (0.15, 0.2, 0.25), (2/3, 1/2, 1/3, 1/4, 1/5) )"
   ]
  },
  {
   "cell_type": "code",
   "execution_count": null,
   "metadata": {
    "tags": []
   },
   "outputs": [],
   "source": [
    "ratio_plot(\"sift-128-euclidean\", l2, (250, 300, 325, 350), (1.25, 1.5, 2, 3))"
   ]
  },
  {
   "cell_type": "code",
   "execution_count": null,
   "metadata": {},
   "outputs": [],
   "source": [
    "## missing glove,mnist"
   ]
  },
  {
   "source": [
    "# Fairness of the output\n",
    "\n",
    "Produce plots that show individual fairness of the output"
   ],
   "cell_type": "markdown",
   "metadata": {}
  },
  {
   "cell_type": "code",
   "execution_count": null,
   "metadata": {},
   "outputs": [],
   "source": [
    "def produce_distribution_plot(res_fn,r=.15, scale=300):\n",
    "    import pickle\n",
    "    import collections\n",
    "\n",
    "    with open(res_fn, 'rb') as f:\n",
    "        res = pickle.load(f)\n",
    "    #print(res.keys())\n",
    "\n",
    "    data, queries, _, _ = get_dataset(res[\"dataset\"])\n",
    "\n",
    "    #df = pd.DataFrame(columns=[\"query\", \"point\", \"freq\", \"sim\"])\n",
    "\n",
    "    df_dict = {\n",
    "        \"query\": [],\n",
    "        \"point\": [],\n",
    "        \"freq\": [],\n",
    "        \"sim\": []\n",
    "    }\n",
    "\n",
    "    for q, points in res[\"res\"].items():\n",
    "        # print(points)\n",
    "        for point, count in collections.Counter(points).items():\n",
    "            df_dict[\"query\"].append(q) \n",
    "            df_dict[\"point\"].append(point) \n",
    "            df_dict[\"freq\"].append(count) \n",
    "            df_dict[\"sim\"].append(jaccard(queries[q], data[point]))\n",
    "    df = pd.DataFrame(data=df_dict)\n",
    "\n",
    "\n",
    "    cmap = sns.cubehelix_palette(rot=-.2, as_cmap=True)\n",
    "\n",
    "    df = df[df.sim >= r]\n",
    "    df = df.groupby(['query', 'sim']).mean().reset_index()\n",
    "\n",
    "    \n",
    "    norms = df.groupby(['query']).sum().reset_index()[['query', 'freq']]\n",
    "    norms = norms.rename (columns={'freq' : 'norm'})\n",
    "    df = df.merge(norms, left_on='query', right_on='query')\n",
    "    df['relfreq'] = df[['freq', 'norm']].apply(lambda x: x[0] / x[1], axis=1)\n",
    "    max_size = max(df.relfreq.values)\n",
    "\n",
    "    sns.scatterplot(data=df.rename(\n",
    "                columns={'query' : 'Query', \n",
    "                        'relfreq' : 'rel freq', \n",
    "                        'sim' : 'Similarity'}), \n",
    "                x='Similarity', y = 'Query', \n",
    "                hue='rel freq',\n",
    "                size='rel freq', \n",
    "                sizes = (1, max_size * scale),\n",
    "                palette=cmap\n",
    "                )   \n",
    "    leg = plt.legend()\n",
    "    for t in leg.texts:\n",
    "    # truncate label text to 4 characters\n",
    "        t.set_text(t.get_text()[:4])\n",
    "    #print(df)\n",
    "\n",
    "    \n",
    "    #print(norm)\n",
    "\n",
    "    \n",
    "    # plot_df['query_id'] = plot_df['query_id'].replace(dd)\n",
    "    # norm = max(plot_df.groupby(['query_id']).sum().reset_index()[['query_time']].values)\n",
    "    # #norm = 1\n",
    "    \n",
    "    # #plot_df = plot_df.merge(normalization_df, left_on = 'query_id', right_on = 'query_id')\n",
    "    # plot_df['norm_count'] = plot_df[['query_time']].apply(lambda x: x / norm)\n",
    "    \n",
    "    \n",
    "    # max_size = max(plot_df.norm_count.values)\n",
    "    # sns.scatterplot(data=plot_df.rename(\n",
    "    #                 columns={'query_id' : 'Query', \n",
    "    #                          'norm_count' : 'rel freq', \n",
    "    #                          'similarity' : 'Similarity'}), \n",
    "    #               x='Similarity', y = 'Query', \n",
    "    #               hue='rel freq',\n",
    "    #               size='rel freq', \n",
    "    #               sizes = (1, max_size * scale),\n",
    "    #               palette=cmap\n",
    "    #              )   \n",
    "    # leg = plt.legend()\n",
    "    # for t in leg.texts:\n",
    "    # # truncate label text to 4 characters\n",
    "    #     t.set_text(t.get_text()[:4])\n",
    "    # #plt.legend(bbox_to_anchor=(1.05, 1), loc=2, borderaxespad=0.)"
   ]
  },
  {
   "cell_type": "code",
   "execution_count": null,
   "metadata": {
    "tags": []
   },
   "outputs": [],
   "source": [
    "exp_combinations = (('lastfm', 10, 500), ('movielens', 10, 500))\n",
    "for ds, k, L in exp_combinations:\n",
    "    for method in [\"opt\", \"uniform\"]:\n",
    "        if not os.path.isfile(f\"results/{ds}/opt/onebitminhash/k_{k}_L_{L}.pickle\"):\n",
    "            run_single_exp(ds, 0, \"onebitminhash\", k, L, 0, False, False)\n",
    "        produce_distribution_plot(\"results/lastfm/opt/onebitminhash/k_10_L_500.pickle\")\n",
    "        plt.show()"
   ]
  },
  {
   "source": [
    "# Discussion: Approximate neighborhood is unfair?"
   ],
   "cell_type": "markdown",
   "metadata": {}
  },
  {
   "cell_type": "code",
   "execution_count": null,
   "metadata": {
    "tags": []
   },
   "outputs": [],
   "source": [
    "# Just run the experiment in here\n",
    "import os\n",
    "\n",
    "if not os.path.isfile(\"approx.csv\"):\n",
    "    import approx_exp\n",
    "    approx_exp.run(\"approx.csv\")\n",
    "\n",
    "df = pd.read_csv(\"approx.csv\")\n",
    "df['sim'] = [0.9, 0.6, 0.5]\n",
    "df['prob'] = df[['count', 'runs']].apply(lambda x: x[0] / x[1], axis=1)\n",
    "\n",
    "ax = sns.barplot(data=df.rename(columns={'sim': 'Similarity', 'prob' : 'Sampling Prob.'}), x='Similarity', y='Sampling Prob.')\n",
    "ax.text(-0.1, 0.005, \"$\\mathbf{X}$\", horizontalalignment='left', size='medium', color='white', weight='semibold')\n",
    "ax.text(1.9, 0.015, \"$\\mathbf{Z}$\", horizontalalignment='left', size='medium', color='white', weight='semibold')\n",
    "ax.text(0.9, 0.002, \"$\\mathbf{Y}$\", horizontalalignment='left', size='medium', color='black', weight='semibold')\n",
    "plt.tight_layout()\n",
    "\n",
    "\n"
   ]
  },
  {
   "cell_type": "code",
   "execution_count": null,
   "metadata": {},
   "outputs": [],
   "source": []
  }
 ],
 "metadata": {
  "kernelspec": {
   "display_name": "Python 3",
   "language": "python",
   "name": "python3"
  },
  "language_info": {
   "codemirror_mode": {
    "name": "ipython",
    "version": 3
   },
   "file_extension": ".py",
   "mimetype": "text/x-python",
   "name": "python",
   "nbconvert_exporter": "python",
   "pygments_lexer": "ipython3",
   "version": "3.8.5-final"
  }
 },
 "nbformat": 4,
 "nbformat_minor": 2
}