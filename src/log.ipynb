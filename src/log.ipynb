{
 "cells": [
  {
   "cell_type": "code",
   "execution_count": null,
   "metadata": {},
   "outputs": [],
   "source": [
    "%matplotlib inline\n",
    "import pandas as pd\n",
    "from IPython.display import display\n",
    "import matplotlib\n",
    "import matplotlib.pyplot as plt\n",
    "import seaborn as sns\n",
    "import math\n",
    "import os\n",
    "\n",
    "from datasets import get_dataset, bruteforce\n",
    "from distance import jaccard, l2\n",
    "from lsh import LSHBuilder, LSH\n",
    "\n",
    "sns.set_style(\"whitegrid\")\n",
    "#plt.rcParams[\"figure.figsize\"] =(20,10)\n",
    "pd.options.display.max_rows = 2000\n",
    "plt.rcParams['mathtext.fontset'] = 'cm'\n",
    "#plt.rcParams['font.family'] = 'cmu serif'\n",
    "plt.rcParams['mathtext.rm'] = 'Bitstream Vera Sans'\n",
    "plt.rcParams['mathtext.it'] = 'Bitstream Vera Sans:italic'\n",
    "plt.rcParams['mathtext.bf'] = 'Bitstream Vera Sans:bold'\n",
    "\n",
    "#sns.set_context('paper', font_scale=5)\n",
    "\n",
    "df = pd.read_csv(\"exp.csv\")"
   ]
  },
  {
   "cell_type": "code",
   "execution_count": null,
   "metadata": {},
   "outputs": [],
   "source": [
    "for ds in set(df.dataset):\n",
    "    for k in set(df[df.dataset==ds].k):\n",
    "        plt.title(f\"{ds}, k={k}\")\n",
    "        ax = sns.lineplot(data=df[(df.k == k) & (df.dataset == ds)], x=\"L\", y=\"tvd\",hue=\"method\")\n",
    "        plt.show()"
   ]
  },
  {
   "cell_type": "code",
   "execution_count": null,
   "metadata": {},
   "outputs": [],
   "source": [
    "for ds in set(df.dataset):\n",
    "    for L in set(df[df.dataset==ds].L):\n",
    "        plt.title(f\"{ds}, L={L}\")\n",
    "        ax = sns.lineplot(data=df[(df.L == L) & (df.dataset == ds)], x=\"k\", y=\"tvd\",hue=\"method\")\n",
    "        plt.show()"
   ]
  },
  {
   "source": [
    "# Discussion of b_cr/b_r term on real-world datasets"
   ],
   "cell_type": "markdown",
   "metadata": {}
  },
  {
   "cell_type": "code",
   "execution_count": null,
   "metadata": {},
   "outputs": [],
   "source": [
    "def ratio_plot(ds_name, distance_fn, rs, cs):\n",
    "    data, queries, _, _ = get_dataset(ds_name)\n",
    "    groundtruth = bruteforce(data, queries, distance_fn)\n",
    "\n",
    "    ball_df = pd.DataFrame(data={'r' : [], 'c' : [], 'br' : [], 'bcr' :[], 'i' : [] })\n",
    "\n",
    "    for r in rs:\n",
    "        for c in cs:\n",
    "            for i in range(len(groundtruth)):\n",
    "                if distance_fn == l2:\n",
    "                    b_r = len([1 for p in groundtruth[i] if distance_fn(data[p], queries[i]) <= r])\n",
    "                    b_cr = len([1 for p in groundtruth[i] if distance_fn(data[p], queries[i]) <= r * c])\n",
    "                elif distance_fn == jaccard:\n",
    "                    b_r = len([1 for p in groundtruth[i] if distance_fn(data[p], queries[i]) >= r])\n",
    "                    b_cr = len([1 for p in groundtruth[i] if distance_fn(data[p], queries[i]) >= r * c])\n",
    "                ball_df = ball_df.append({'r': r, 'c' : c, 'br': b_r, 'bcr' : b_cr, 'i' : i}, ignore_index=True)\n",
    "                \n",
    "                \n",
    "    ball_grouped_df = ball_df.groupby(['r', 'c']).sum().reset_index()\n",
    "    ball_grouped_df['rel'] = ball_grouped_df[['br', 'bcr']].apply(lambda x:  x[1] / x[0], axis=1)\n",
    "    sns.catplot(data=ball_grouped_df[['r', 'c', 'rel']].round(2).rename(columns={'rel' : '$b_{cr} / b_r$'}),x='c', y='$b_{cr} / b_r$', kind='bar', col='r')"
   ]
  },
  {
   "cell_type": "code",
   "execution_count": null,
   "metadata": {},
   "outputs": [],
   "source": [
    "ratio_plot(\"lastfm\", jaccard, (0.15, 0.2, 0.25), (2/3, 1/2, 1/3, 1/4, 1/5) )"
   ]
  },
  {
   "cell_type": "code",
   "execution_count": null,
   "metadata": {},
   "outputs": [],
   "source": [
    "ratio_plot(\"movielens\", jaccard, (0.15, 0.2, 0.25), (2/3, 1/2, 1/3, 1/4, 1/5) )"
   ]
  },
  {
   "cell_type": "code",
   "execution_count": null,
   "metadata": {
    "tags": []
   },
   "outputs": [],
   "source": [
    "ratio_plot(\"sift-128-euclidean\", l2, (250, 300, 325, 350), (1.25, 1.5, 2, 3))"
   ]
  },
  {
   "cell_type": "code",
   "execution_count": null,
   "metadata": {},
   "outputs": [],
   "source": [
    "## missing glove,mnist"
   ]
  },
  {
   "source": [
    "# Discussion: Approximate neighborhood is unfair?"
   ],
   "cell_type": "markdown",
   "metadata": {}
  },
  {
   "cell_type": "code",
   "execution_count": null,
   "metadata": {
    "tags": []
   },
   "outputs": [],
   "source": [
    "# Just run the experiment in here\n",
    "import os\n",
    "\n",
    "if not os.path.isfile(\"approx.csv\"):\n",
    "    import approx_exp\n",
    "    approx_exp.run(\"approx.csv\")\n",
    "\n",
    "df = pd.read_csv(\"approx.csv\")\n",
    "df['sim'] = [0.9, 0.6, 0.5]\n",
    "df['prob'] = df[['count', 'runs']].apply(lambda x: x[0] / x[1], axis=1)\n",
    "\n",
    "ax = sns.barplot(data=df.rename(columns={'sim': 'Similarity', 'prob' : 'Sampling Prob.'}), x='Similarity', y='Sampling Prob.')\n",
    "ax.text(-0.1, 0.005, \"$\\mathbf{X}$\", horizontalalignment='left', size='medium', color='white', weight='semibold')\n",
    "ax.text(1.9, 0.015, \"$\\mathbf{Z}$\", horizontalalignment='left', size='medium', color='white', weight='semibold')\n",
    "ax.text(0.9, 0.002, \"$\\mathbf{Y}$\", horizontalalignment='left', size='medium', color='black', weight='semibold')\n",
    "plt.tight_layout()\n",
    "\n",
    "\n"
   ]
  },
  {
   "cell_type": "code",
   "execution_count": null,
   "metadata": {},
   "outputs": [],
   "source": []
  }
 ],
 "metadata": {
  "kernelspec": {
   "display_name": "Python 3",
   "language": "python",
   "name": "python3"
  },
  "language_info": {
   "codemirror_mode": {
    "name": "ipython",
    "version": 3
   },
   "file_extension": ".py",
   "mimetype": "text/x-python",
   "name": "python",
   "nbconvert_exporter": "python",
   "pygments_lexer": "ipython3",
   "version": "3.8.5-final"
  }
 },
 "nbformat": 4,
 "nbformat_minor": 2
}