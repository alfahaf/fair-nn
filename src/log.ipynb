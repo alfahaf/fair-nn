{
 "metadata": {
  "language_info": {
   "codemirror_mode": {
    "name": "ipython",
    "version": 3
   },
   "file_extension": ".py",
   "mimetype": "text/x-python",
   "name": "python",
   "nbconvert_exporter": "python",
   "pygments_lexer": "ipython3",
   "version": "3.6.9-final"
  },
  "orig_nbformat": 2,
  "kernelspec": {
   "name": "python3",
   "display_name": "Python 3"
  }
 },
 "nbformat": 4,
 "nbformat_minor": 2,
 "cells": [
  {
   "source": [
    "import datasets\n",
    "import helpers\n",
    "import pickle\n",
    "import numpy\n",
    "\n",
    "\n",
    "\n"
   ],
   "cell_type": "code",
   "metadata": {},
   "execution_count": 111,
   "outputs": []
  },
  {
   "cell_type": "code",
   "execution_count": 112,
   "metadata": {
    "tags": []
   },
   "outputs": [],
   "source": [
    "results = helpers.load_all_results()"
   ]
  },
  {
   "cell_type": "code",
   "execution_count": 113,
   "metadata": {},
   "outputs": [
    {
     "output_type": "stream",
     "name": "stdout",
     "text": [
      "3\n"
     ]
    }
   ],
   "source": [
    "print(len(results))"
   ]
  },
  {
   "cell_type": "code",
   "execution_count": 124,
   "metadata": {},
   "outputs": [],
   "source": [
    "result = results[0]"
   ]
  },
  {
   "cell_type": "code",
   "execution_count": 125,
   "metadata": {},
   "outputs": [
    {
     "output_type": "execute_result",
     "data": {
      "text/plain": [
       "dict_keys(['name', 'res', 'dataset', 'dist_threshold'])"
      ]
     },
     "metadata": {},
     "execution_count": 125
    }
   ],
   "source": [
    "result.keys()"
   ]
  },
  {
   "cell_type": "code",
   "execution_count": 126,
   "metadata": {},
   "outputs": [],
   "source": [
    "def get_true_prob(result):\n",
    "    with open(datasets.get_dataset_fn(result['dataset']), 'rb') as f:\n",
    "        data, queries, groundtruth = pickle.load(f)\n",
    "\n",
    "    A = numpy.array([len(x) for x in groundtruth])\n",
    "    return 1/A"
   ]
  },
  {
   "source": [
    "def get_result_prob(results):\n",
    "    probs = {}\n",
    "    for q, res in results.items():\n",
    "        probs[q] = []\n",
    "        cnts = {}\n",
    "        for r in res:\n",
    "            if r != -1:\n",
    "                cnts.setdefault(r, 0)\n",
    "                cnts[r] += 1\n",
    "        n = sum(cnts.values())\n",
    "        p = [cnts[r]/n for r in cnts]\n",
    "        probs[q] = p\n",
    "    return probs\n",
    "\n"
   ],
   "cell_type": "code",
   "metadata": {},
   "execution_count": 127,
   "outputs": []
  },
  {
   "cell_type": "code",
   "execution_count": 128,
   "metadata": {},
   "outputs": [],
   "source": [
    "def total_variation_dist(g, res):\n",
    "    all = numpy.zeros(len(g))\n",
    "    for i in range(len(g)):\n",
    "        n = int(1/g[i])\n",
    "        r = numpy.array(res[i] + [0] * (n - len(res[i])))\n",
    "        all[i] = 0.5 * numpy.sum(numpy.abs(r - g[i]))\n",
    "    return numpy.mean(all)\n",
    "\n",
    "def total_variation_dist_only_result(res):\n",
    "    all = numpy.zeros(len(res))\n",
    "    for i in range(len(res)):\n",
    "        n = len(res[i])\n",
    "        if n == 0:\n",
    "            continue\n",
    "        r = numpy.array(res[i] + [0] * (n - len(res[i])))\n",
    "        all[i] = 0.5 * numpy.sum(numpy.abs(r - 1/n))\n",
    "    return numpy.mean(all)   \n",
    "\n",
    "\n"
   ]
  },
  {
   "cell_type": "code",
   "execution_count": 129,
   "metadata": {
    "tags": []
   },
   "outputs": [
    {
     "output_type": "stream",
     "name": "stdout",
     "text": [
      "0.6929097104079931\n0.03573368613021034\n"
     ]
    }
   ],
   "source": [
    "p = get_result_prob(result['res'])\n",
    "\n",
    "print(total_variation_dist(get_true_prob(result), p))\n",
    "print(total_variation_dist_only_result(p))\n",
    "\n"
   ]
  },
  {
   "cell_type": "code",
   "execution_count": null,
   "metadata": {},
   "outputs": [],
   "source": []
  }
 ]
}